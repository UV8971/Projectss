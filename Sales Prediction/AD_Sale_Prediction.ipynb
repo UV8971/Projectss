{
 "cells": [
  {
   "cell_type": "markdown",
   "metadata": {
    "id": "gzMR6OClQHUD"
   },
   "source": [
    "## Sale prediction from existing customer - Logistic Regression"
   ]
  },
  {
   "cell_type": "code",
   "execution_count": null,
   "metadata": {
    "id": "3_W4a2z2QN_m"
   },
   "outputs": [],
   "source": [
    "import pandas as pd #useful for loading the dataset\n",
    "import numpy as np #to perform array operations"
   ]
  },
  {
   "cell_type": "markdown",
   "metadata": {
    "id": "V4RKS6cfRQXv"
   },
   "source": [
    "## Choose dataset file from Local Directory"
   ]
  },
  {
   "cell_type": "code",
   "execution_count": 14,
   "metadata": {
    "colab": {
     "base_uri": "https://localhost:8080/",
     "height": 74,
     "resources": {
      "http://localhost:8080/nbextensions/google.colab/files.js": {
       "data": "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",
       "headers": [
        [
         "content-type",
         "application/javascript"
        ]
       ],
       "ok": true,
       "status": 200,
       "status_text": ""
      }
     }
    },
    "id": "5G905diJRTy6",
    "outputId": "01337f31-b32e-411d-9506-7d023656272b"
   },
   "outputs": [
    {
     "data": {
      "text/html": [
       "\n",
       "     <input type=\"file\" id=\"files-5e0c559f-a6af-49fd-acc5-c303838392e8\" name=\"files[]\" multiple disabled\n",
       "        style=\"border:none\" />\n",
       "     <output id=\"result-5e0c559f-a6af-49fd-acc5-c303838392e8\">\n",
       "      Upload widget is only available when the cell has been executed in the\n",
       "      current browser session. Please rerun this cell to enable.\n",
       "      </output>\n",
       "      <script src=\"/nbextensions/google.colab/files.js\"></script> "
      ],
      "text/plain": [
       "<IPython.core.display.HTML object>"
      ]
     },
     "metadata": {},
     "output_type": "display_data"
    },
    {
     "name": "stdout",
     "output_type": "stream",
     "text": [
      "Saving DigitalAd_dataset.csv to DigitalAd_dataset (3).csv\n"
     ]
    }
   ],
   "source": [
    "from google.colab import files\n",
    "uploaded = files.upload() "
   ]
  },
  {
   "cell_type": "markdown",
   "metadata": {
    "id": "Pe_QiM5RpCoe"
   },
   "source": [
    "## Load Dataset"
   ]
  },
  {
   "cell_type": "code",
   "execution_count": 16,
   "metadata": {
    "colab": {
     "base_uri": "https://localhost:8080/"
    },
    "id": "-S6dzBUMlO4d",
    "outputId": "359788e5-d3eb-40c4-bc57-559822465bc2"
   },
   "outputs": [
    {
     "name": "stdout",
     "output_type": "stream",
     "text": [
      "     Age   Salary  Status\n",
      "0      18   82000       0\n",
      "1      29   80000       0\n",
      "2      47   25000       1\n",
      "3      45   26000       1\n",
      "4      46   28000       1\n",
      "..    ...     ...     ...\n",
      "238    33   25000       1\n",
      "239    30   73000       0\n",
      "240    26   74200       1\n",
      "241    27   36000       0\n",
      "242    27   12800       0\n",
      "\n",
      "[243 rows x 3 columns]\n"
     ]
    }
   ],
   "source": [
    "dataset = pd.read_csv('DigitalAd_dataset (3).csv')\n",
    "print(dataset)"
   ]
  },
  {
   "cell_type": "markdown",
   "metadata": {
    "id": "t-az6066pVbx"
   },
   "source": [
    "## Summarize Dataset"
   ]
  },
  {
   "cell_type": "code",
   "execution_count": 17,
   "metadata": {
    "colab": {
     "base_uri": "https://localhost:8080/"
    },
    "id": "ni6rByUYlj9E",
    "outputId": "d934ed90-d94d-4a85-db65-a78dd2bffffd"
   },
   "outputs": [
    {
     "name": "stdout",
     "output_type": "stream",
     "text": [
      "(243, 3)\n",
      "   Age   Salary  Status\n",
      "0    18   82000       0\n",
      "1    29   80000       0\n",
      "2    47   25000       1\n",
      "3    45   26000       1\n",
      "4    46   28000       1\n"
     ]
    }
   ],
   "source": [
    "print(dataset.shape)\n",
    "print(dataset.head(5))"
   ]
  },
  {
   "cell_type": "code",
   "execution_count": 18,
   "metadata": {
    "colab": {
     "base_uri": "https://localhost:8080/"
    },
    "id": "BoUalSyxpevG",
    "outputId": "df2f5bce-b5df-4372-bf3b-116406840911"
   },
   "outputs": [
    {
     "name": "stdout",
     "output_type": "stream",
     "text": [
      "     Age   Salary  Status\n",
      "238    33   25000       1\n",
      "239    30   73000       0\n",
      "240    26   74200       1\n",
      "241    27   36000       0\n",
      "242    27   12800       0\n"
     ]
    }
   ],
   "source": [
    "print(dataset.tail(5))"
   ]
  },
  {
   "cell_type": "markdown",
   "metadata": {
    "id": "CTmsQ-MurIFW"
   },
   "source": [
    "## Segregate data into X(Input/Independent Variable) & Y(Output/Dependent Variable)"
   ]
  },
  {
   "cell_type": "code",
   "execution_count": 19,
   "metadata": {
    "colab": {
     "base_uri": "https://localhost:8080/"
    },
    "id": "yETtOSZKrR79",
    "outputId": "f0bd9cd8-d253-4316-b6f3-9c2e4ac14e5f"
   },
   "outputs": [
    {
     "data": {
      "text/plain": [
       "array([[    18,  82000],\n",
       "       [    29,  80000],\n",
       "       [    47,  25000],\n",
       "       [    45,  26000],\n",
       "       [    46,  28000],\n",
       "       [    48,  29000],\n",
       "       [    45,  22000],\n",
       "       [    46,  49000],\n",
       "       [    47,  41000],\n",
       "       [    49,  22200],\n",
       "       [    47,  23000],\n",
       "       [    49,  20000],\n",
       "       [    49,  28000],\n",
       "       [    47,  30000],\n",
       "       [    29,  43000],\n",
       "       [    31,  18000],\n",
       "       [    31,  74000],\n",
       "       [    27, 137000],\n",
       "       [    21,  16000],\n",
       "       [    28,  44000],\n",
       "       [    27,  90000],\n",
       "       [    35,  27000],\n",
       "       [    33,  28000],\n",
       "       [    30,  49000],\n",
       "       [    26,  72200],\n",
       "       [    67,  31000],\n",
       "       [    27,  17800],\n",
       "       [    18,  82000],\n",
       "       [    29,  80000],\n",
       "       [    47,  25000],\n",
       "       [    45,  26000],\n",
       "       [    46,  28000],\n",
       "       [    48,  29000],\n",
       "       [    45,  22000],\n",
       "       [    46,  49000],\n",
       "       [    47,  41000],\n",
       "       [    49,  22200],\n",
       "       [    47,  23000],\n",
       "       [    49,  20000],\n",
       "       [    49,  28000],\n",
       "       [    47,  30000],\n",
       "       [    29,  43000],\n",
       "       [    31,  18000],\n",
       "       [    31,  74000],\n",
       "       [    27, 137000],\n",
       "       [    21,  16000],\n",
       "       [    28,  44000],\n",
       "       [    27,  90000],\n",
       "       [    35,  27000],\n",
       "       [    33,  28000],\n",
       "       [    30,  49000],\n",
       "       [    26,  72200],\n",
       "       [    27,  31000],\n",
       "       [    27,  17800],\n",
       "       [    18,  82000],\n",
       "       [    29,  80000],\n",
       "       [    47,  25000],\n",
       "       [    45,  26000],\n",
       "       [    46,  28000],\n",
       "       [    48,  29000],\n",
       "       [    45,  22000],\n",
       "       [    46,  49000],\n",
       "       [    47,  41000],\n",
       "       [    49,  22200],\n",
       "       [    47,  29000],\n",
       "       [    49,  20000],\n",
       "       [    49,  26000],\n",
       "       [    47,  30000],\n",
       "       [    29,  43000],\n",
       "       [    31,  18000],\n",
       "       [    31,  74000],\n",
       "       [    27, 137000],\n",
       "       [    21,  16000],\n",
       "       [    28,  44000],\n",
       "       [    27,  90000],\n",
       "       [    35,  27000],\n",
       "       [    33,  28000],\n",
       "       [    30,  49000],\n",
       "       [    26,  72200],\n",
       "       [    27,  31000],\n",
       "       [    27,  17800],\n",
       "       [    18,  82000],\n",
       "       [    29,  80000],\n",
       "       [    47,  25000],\n",
       "       [    45,  26000],\n",
       "       [    46,  28000],\n",
       "       [    48,  29000],\n",
       "       [    45,  22000],\n",
       "       [    46,  49000],\n",
       "       [    47,  41000],\n",
       "       [    49,  22200],\n",
       "       [    47,  23000],\n",
       "       [    49,  20000],\n",
       "       [    49,  28000],\n",
       "       [    47,  30000],\n",
       "       [    29,  43000],\n",
       "       [    31,  18000],\n",
       "       [    31,  74000],\n",
       "       [    27, 137000],\n",
       "       [    21,  16000],\n",
       "       [    28,  44000],\n",
       "       [    27,  90000],\n",
       "       [    35,  27000],\n",
       "       [    33,  28000],\n",
       "       [    30,  49000],\n",
       "       [    26,  72200],\n",
       "       [    27,  31000],\n",
       "       [    27,  17800],\n",
       "       [    18,  82000],\n",
       "       [    29,  80000],\n",
       "       [    47,  25000],\n",
       "       [    45,  26000],\n",
       "       [    46,  28000],\n",
       "       [    48,  29000],\n",
       "       [    45,  22000],\n",
       "       [    46,  49000],\n",
       "       [    47,  41000],\n",
       "       [    49,  22200],\n",
       "       [    47,  23000],\n",
       "       [    49,  20000],\n",
       "       [    49,  28000],\n",
       "       [    47,  30000],\n",
       "       [    29,  43000],\n",
       "       [    31,  18000],\n",
       "       [    31,  74000],\n",
       "       [    27, 137000],\n",
       "       [    21,  16000],\n",
       "       [    28,  44000],\n",
       "       [    27,  90000],\n",
       "       [    35,  27000],\n",
       "       [    33,  28000],\n",
       "       [    30,  49000],\n",
       "       [    26,  72200],\n",
       "       [    27,  31000],\n",
       "       [    27,  17800],\n",
       "       [    18,  82000],\n",
       "       [    29,  80000],\n",
       "       [    47,  25000],\n",
       "       [    45,  26000],\n",
       "       [    46,  28000],\n",
       "       [    48,  29000],\n",
       "       [    45,  22000],\n",
       "       [    46,  49000],\n",
       "       [    47,  41000],\n",
       "       [    49,  22200],\n",
       "       [    47,  23000],\n",
       "       [    49,  20000],\n",
       "       [    49,  28000],\n",
       "       [    47,  30000],\n",
       "       [    29,  43000],\n",
       "       [    31,  18000],\n",
       "       [    31,  74000],\n",
       "       [    27, 137000],\n",
       "       [    21,  16000],\n",
       "       [    28,  44000],\n",
       "       [    27,  90000],\n",
       "       [    35,  27000],\n",
       "       [    33,  28000],\n",
       "       [    30,  49000],\n",
       "       [    26,  72200],\n",
       "       [    27,  31000],\n",
       "       [    27,  17800],\n",
       "       [    18,  82000],\n",
       "       [    29,  80000],\n",
       "       [    47,  25000],\n",
       "       [    45,  26000],\n",
       "       [    46,  28000],\n",
       "       [    48,  29000],\n",
       "       [    45,  22000],\n",
       "       [    46,  49000],\n",
       "       [    47,  41000],\n",
       "       [    49,  22200],\n",
       "       [    47,  23000],\n",
       "       [    49,  20000],\n",
       "       [    49,  28000],\n",
       "       [    47,  37000],\n",
       "       [    29,  43700],\n",
       "       [    31,  18050],\n",
       "       [    31,  77000],\n",
       "       [    27,  13000],\n",
       "       [    21,  16000],\n",
       "       [    28,  44000],\n",
       "       [    27,  90000],\n",
       "       [    35,  27000],\n",
       "       [    33,  28000],\n",
       "       [    30,  49000],\n",
       "       [    26,  72200],\n",
       "       [    27,  31000],\n",
       "       [    27,  17800],\n",
       "       [    18,  82000],\n",
       "       [    29,  80000],\n",
       "       [    47,  25000],\n",
       "       [    45,  26000],\n",
       "       [    46,  28000],\n",
       "       [    48,  29000],\n",
       "       [    45,  22000],\n",
       "       [    46,  49000],\n",
       "       [    47,  41000],\n",
       "       [    49,  22200],\n",
       "       [    47,  23000],\n",
       "       [    49,  20000],\n",
       "       [    49,  28000],\n",
       "       [    47,  30000],\n",
       "       [    29,  43000],\n",
       "       [    31,  18000],\n",
       "       [    31,  74000],\n",
       "       [    27, 137000],\n",
       "       [    21,  16000],\n",
       "       [    28,  44000],\n",
       "       [    27,  90000],\n",
       "       [    35,  27000],\n",
       "       [    33,  28000],\n",
       "       [    40,  49000],\n",
       "       [    26,  72200],\n",
       "       [    27,  31000],\n",
       "       [    27,  17800],\n",
       "       [    18,  82000],\n",
       "       [    29,  80000],\n",
       "       [    17,  25000],\n",
       "       [    45,  26000],\n",
       "       [    46,  28000],\n",
       "       [    58,  23300],\n",
       "       [    45,  22000],\n",
       "       [    46,  49000],\n",
       "       [    47,  41000],\n",
       "       [    49,  22200],\n",
       "       [    46,  23000],\n",
       "       [    49,  20000],\n",
       "       [    49,  28000],\n",
       "       [    47,  30000],\n",
       "       [    99,  43000],\n",
       "       [    31,  18000],\n",
       "       [    31,  74000],\n",
       "       [    27, 137000],\n",
       "       [    81,  16000],\n",
       "       [    58,  44000],\n",
       "       [    27,  90000],\n",
       "       [    35,  97000],\n",
       "       [    33,  25000],\n",
       "       [    30,  73000],\n",
       "       [    26,  74200],\n",
       "       [    27,  36000],\n",
       "       [    27,  12800]])"
      ]
     },
     "execution_count": 19,
     "metadata": {},
     "output_type": "execute_result"
    }
   ],
   "source": [
    "X = dataset.iloc[:,:-1].values\n",
    "X"
   ]
  },
  {
   "cell_type": "code",
   "execution_count": 21,
   "metadata": {
    "colab": {
     "base_uri": "https://localhost:8080/"
    },
    "id": "xcwZeFwrrb7X",
    "outputId": "e9e055df-e560-48f5-93cb-071a08f07c58"
   },
   "outputs": [
    {
     "data": {
      "text/plain": [
       "array([0, 0, 1, 1, 1, 1, 1, 1, 1, 1, 1, 1, 1, 1, 0, 0, 0, 1, 0, 0, 0, 0,\n",
       "       0, 0, 0, 0, 0, 0, 0, 1, 1, 1, 1, 1, 1, 1, 1, 1, 1, 1, 1, 0, 0, 0,\n",
       "       1, 0, 0, 0, 0, 0, 0, 0, 0, 0, 0, 0, 1, 1, 1, 1, 1, 1, 1, 1, 1, 1,\n",
       "       1, 1, 0, 0, 0, 1, 0, 0, 0, 0, 0, 0, 0, 0, 0, 0, 0, 1, 1, 1, 1, 1,\n",
       "       1, 1, 1, 1, 1, 1, 1, 0, 0, 0, 1, 0, 1, 0, 0, 1, 0, 0, 0, 0, 0, 1,\n",
       "       1, 1, 1, 1, 1, 0, 1, 1, 1, 1, 1, 1, 0, 0, 0, 1, 0, 0, 1, 0, 0, 1,\n",
       "       0, 1, 0, 0, 0, 1, 1, 1, 1, 1, 1, 1, 1, 1, 1, 1, 1, 0, 0, 0, 1, 1,\n",
       "       0, 1, 0, 0, 0, 1, 0, 0, 0, 1, 1, 1, 1, 1, 1, 0, 1, 1, 1, 1, 1, 1,\n",
       "       0, 0, 1, 1, 1, 0, 1, 0, 0, 0, 0, 1, 0, 0, 0, 1, 1, 1, 1, 0, 1, 1,\n",
       "       1, 0, 1, 1, 0, 0, 0, 0, 1, 0, 1, 0, 1, 0, 0, 0, 1, 0, 0, 0, 1, 1,\n",
       "       0, 1, 1, 1, 0, 1, 1, 0, 1, 1, 0, 0, 0, 1, 0, 1, 0, 0, 1, 0, 1, 0,\n",
       "       0])"
      ]
     },
     "execution_count": 21,
     "metadata": {},
     "output_type": "execute_result"
    }
   ],
   "source": [
    "Y=dataset.iloc[:,-1].values\n",
    "Y"
   ]
  },
  {
   "cell_type": "markdown",
   "metadata": {
    "id": "dtuUxg6Wry8A"
   },
   "source": [
    "## Splitting dataset into train & test"
   ]
  },
  {
   "cell_type": "code",
   "execution_count": 22,
   "metadata": {
    "id": "47ofXDr_r3r-"
   },
   "outputs": [],
   "source": [
    "from sklearn.model_selection import train_test_split\n",
    "X_train,X_test,y_train,y_test = train_test_split(X,Y,test_size=0.25,random_state=0) #that means 25% data for testing and 75% for training"
   ]
  },
  {
   "cell_type": "markdown",
   "metadata": {
    "id": "SpzRaTeqsNbF"
   },
   "source": [
    "## Feature Scaling"
   ]
  },
  {
   "cell_type": "markdown",
   "metadata": {
    "id": "O-1l4j4VsnBB"
   },
   "source": [
    "### We scale our data to make all the features contribute equally to the result                                                                 "
   ]
  },
  {
   "cell_type": "markdown",
   "metadata": {
    "id": "QF3bQOUPs8T-"
   },
   "source": [
    "### Fit_transform - fit method is calculating the mean and variance of each of the features present in our data"
   ]
  },
  {
   "cell_type": "markdown",
   "metadata": {
    "id": "yJHQibIks8cU"
   },
   "source": [
    "### Transform - Transfrom method is transforming all the features using the respective mean and variance "
   ]
  },
  {
   "cell_type": "markdown",
   "metadata": {
    "id": "W8RWqlxIs8k2"
   },
   "source": [
    "### We want our test data to be a completely new and a surprise set for our model"
   ]
  },
  {
   "cell_type": "code",
   "execution_count": 27,
   "metadata": {
    "colab": {
     "base_uri": "https://localhost:8080/"
    },
    "id": "ZPDqavGJtvTi",
    "outputId": "343b5a97-6bfd-4569-91dd-5fdb554e9793"
   },
   "outputs": [
    {
     "name": "stdout",
     "output_type": "stream",
     "text": [
      "[[ 5.42554988 -0.01159867]\n",
      " [-1.81628058 -0.66279408]\n",
      " [-0.40324049 -0.55426151]\n",
      " [-0.93313053  3.38908843]\n",
      " [-0.5798705  -0.91603673]\n",
      " [ 1.0097996  -0.76409114]\n",
      " [-0.5798705   1.10990452]\n",
      " [ 0.83316959 -0.08395372]\n",
      " [ 0.21496455  0.20546646]\n",
      " [-0.93313053  1.68874488]\n",
      " [ 0.74485458 -0.55426151]\n",
      " [-1.72796558  1.3993247 ]\n",
      " [ 0.74485458  0.20546646]\n",
      " [ 0.83316959 -0.08395372]\n",
      " [-0.93313053 -0.44572894]\n",
      " [ 1.0097996  -0.62661655]\n",
      " [-0.93313053 -0.92327224]\n",
      " [-0.5798705   1.10990452]\n",
      " [ 1.0097996  -0.84368169]\n",
      " [ 0.83316959 -0.48190646]\n",
      " [ 0.83316959 -0.48190646]\n",
      " [ 0.83316959 -0.48190646]\n",
      " [ 0.65653958 -0.62661655]\n",
      " [ 0.83316959 -0.66279408]\n",
      " [-1.02144553  1.04478498]\n",
      " [ 0.65653958 -0.62661655]\n",
      " [-0.75650052  1.32696965]\n",
      " [ 0.65653958 -0.77132664]\n",
      " [ 0.83316959 -0.66279408]\n",
      " [-0.93313053  1.68874488]\n",
      " [-1.46302056 -0.98839178]\n",
      " [-0.84481552  0.02457885]\n",
      " [-0.84481552  0.02457885]\n",
      " [ 0.83316959 -0.66279408]\n",
      " [-1.72796558  1.3993247 ]\n",
      " [ 0.92148459 -0.51808399]\n",
      " [-0.93313053 -0.92327224]\n",
      " [-1.02144553  1.04478498]\n",
      " [-0.66818551  0.20546646]\n",
      " [ 0.74485458 -0.55426151]\n",
      " [-0.93313053  3.38908843]\n",
      " [ 0.92148459 -0.51808399]\n",
      " [-0.22661048 -0.59043903]\n",
      " [-0.75650052  1.32696965]\n",
      " [-0.93313053 -1.10415985]\n",
      " [-0.5798705   1.10990452]\n",
      " [-0.75650052 -0.01159867]\n",
      " [-0.75650052 -0.01159867]\n",
      " [-1.72796558  1.3993247 ]\n",
      " [-0.66818551  0.20546646]\n",
      " [ 0.74485458 -0.55426151]\n",
      " [-0.93313053  1.68874488]\n",
      " [-0.93313053 -0.92327224]\n",
      " [-0.84481552  0.02457885]\n",
      " [ 0.65653958 -0.62661655]\n",
      " [-0.40324049 -0.66279408]\n",
      " [ 0.74485458 -0.55426151]\n",
      " [ 1.0097996  -0.76409114]\n",
      " [ 0.83316959 -0.08395372]\n",
      " [-0.5798705   1.21843709]\n",
      " [ 0.83316959 -0.66279408]\n",
      " [ 0.92148459 -0.51808399]\n",
      " [ 0.83316959 -0.48190646]\n",
      " [ 0.74485458 -0.73514912]\n",
      " [-0.5798705   1.10990452]\n",
      " [-0.75650052  1.32696965]\n",
      " [ 0.83316959 -0.73514912]\n",
      " [ 0.65653958 -0.62661655]\n",
      " [-1.46302056 -0.98839178]\n",
      " [ 0.74485458 -0.55426151]\n",
      " [-0.75650052  0.01372559]\n",
      " [-0.93313053  3.38908843]\n",
      " [-0.93313053  3.38908843]\n",
      " [ 1.0097996  -0.55426151]\n",
      " [-0.75650052 -0.01159867]\n",
      " [-0.5798705   1.10990452]\n",
      " [ 0.92148459 -0.51808399]\n",
      " [-1.72796558  1.3993247 ]\n",
      " [ 0.83316959 -0.48190646]\n",
      " [-0.75650052 -0.01159867]\n",
      " [-0.5798705  -0.91603673]\n",
      " [-0.40324049 -0.55426151]\n",
      " [-0.22661048 -0.59043903]\n",
      " [ 0.74485458 -0.55426151]\n",
      " [-1.02144553  1.11714003]\n",
      " [ 0.65653958 -0.77132664]\n",
      " [-0.66818551  0.20546646]\n",
      " [-0.93313053 -0.44572894]\n",
      " [ 0.83316959 -0.08395372]\n",
      " [-1.02144553  1.04478498]\n",
      " [-0.84481552  0.02457885]\n",
      " [-0.66818551  0.20546646]\n",
      " [-0.22661048  1.94198754]\n",
      " [-0.93313053 -0.26484133]\n",
      " [ 0.65653958 -0.77132664]\n",
      " [-0.75650052 -0.01159867]\n",
      " [ 0.65653958 -0.62661655]\n",
      " [ 0.83316959 -0.48190646]\n",
      " [ 1.0097996  -0.84368169]\n",
      " [-1.72796558  1.3993247 ]\n",
      " [-0.93313053  3.38908843]\n",
      " [ 1.0097996  -0.55426151]\n",
      " [ 0.74485458  0.20546646]\n",
      " [ 0.83316959 -0.73514912]\n",
      " [-1.46302056 -0.98839178]\n",
      " [ 1.0097996  -0.84368169]\n",
      " [ 1.0097996  -0.84368169]\n",
      " [-0.22661048 -0.59043903]\n",
      " [ 0.83316959 -0.08395372]\n",
      " [ 0.65653958 -0.62661655]\n",
      " [ 0.74485458  0.20546646]\n",
      " [ 1.0097996  -0.84368169]\n",
      " [-0.75650052  1.32696965]\n",
      " [ 1.0097996  -0.55426151]\n",
      " [ 1.0097996  -0.76409114]\n",
      " [-0.5798705  -0.91603673]\n",
      " [-1.02144553  1.04478498]\n",
      " [-1.02144553  1.04478498]\n",
      " [-0.22661048 -0.59043903]\n",
      " [-0.93313053  3.38908843]\n",
      " [ 1.0097996  -0.84368169]\n",
      " [-0.93313053 -0.44572894]\n",
      " [-0.93313053 -0.92327224]\n",
      " [ 0.83316959 -0.66279408]\n",
      " [-1.02144553  1.04478498]\n",
      " [-0.93313053  1.68874488]\n",
      " [ 0.74485458  0.20546646]\n",
      " [-0.75650052  1.32696965]\n",
      " [-0.22661048 -0.59043903]\n",
      " [ 0.65653958 -0.77132664]\n",
      " [-0.75650052  1.32696965]\n",
      " [-0.5798705   1.10990452]\n",
      " [ 0.74485458 -0.55426151]\n",
      " [ 0.83316959 -0.73514912]\n",
      " [-0.84481552  0.02457885]\n",
      " [-0.66818551  0.20546646]\n",
      " [-0.93313053 -0.92327224]\n",
      " [ 1.0097996  -0.76409114]\n",
      " [ 0.92148459 -0.51808399]\n",
      " [ 0.92148459 -0.51808399]\n",
      " [ 0.74485458  0.20546646]\n",
      " [-0.75650052 -0.01159867]\n",
      " [ 1.0097996  -0.55426151]\n",
      " [ 0.83316959 -0.66279408]\n",
      " [-0.5798705  -0.91422786]\n",
      " [-1.46302056 -0.98839178]\n",
      " [-0.75650052  1.32696965]\n",
      " [-0.66818551  1.073727  ]\n",
      " [ 0.83316959 -0.22866381]\n",
      " [-0.93313053 -0.44572894]\n",
      " [ 0.83316959 -0.08395372]\n",
      " [-0.84481552  0.02457885]\n",
      " [ 0.74485458  0.20546646]\n",
      " [ 0.83316959 -0.48190646]\n",
      " [ 1.80463465  0.02457885]\n",
      " [-1.46302056 -0.98839178]\n",
      " [-0.66818551  0.20546646]\n",
      " [ 2.5994697  -0.44572894]\n",
      " [ 0.65653958 -0.62661655]\n",
      " [-1.72796558  1.3993247 ]\n",
      " [ 1.0097996  -0.55426151]\n",
      " [ 1.0097996  -0.55426151]\n",
      " [-0.5798705  -0.91603673]\n",
      " [ 1.0097996  -0.55426151]\n",
      " [ 0.74485458 -0.55426151]\n",
      " [ 0.74485458 -0.55426151]\n",
      " [ 0.92148459 -0.51808399]\n",
      " [ 0.74485458  0.20546646]\n",
      " [-1.72796558  1.3993247 ]\n",
      " [-0.5798705   1.10990452]\n",
      " [ 0.65653958 -0.77132664]\n",
      " [ 1.0097996  -0.76409114]\n",
      " [-0.22661048 -0.59043903]\n",
      " [-0.40324049 -0.55426151]\n",
      " [ 1.0097996  -0.76409114]\n",
      " [-0.40324049 -0.55426151]\n",
      " [ 0.65653958 -0.77132664]\n",
      " [ 0.83316959 -0.48190646]\n",
      " [ 0.65653958 -0.62661655]\n",
      " [ 1.0097996  -0.76409114]\n",
      " [-0.93313053  1.68874488]\n",
      " [ 0.83316959 -0.73514912]]\n"
     ]
    }
   ],
   "source": [
    "from sklearn.preprocessing import StandardScaler\n",
    "sc=StandardScaler()\n",
    "X_train=sc.fit_transform(X_train)\n",
    "X_test=sc.transform(X_test)\n",
    "print(X_train)"
   ]
  },
  {
   "cell_type": "markdown",
   "metadata": {
    "id": "G4Mi5Nqot2QU"
   },
   "source": [
    "### Training"
   ]
  },
  {
   "cell_type": "code",
   "execution_count": 28,
   "metadata": {
    "colab": {
     "base_uri": "https://localhost:8080/"
    },
    "id": "KoUVi6HSt34f",
    "outputId": "3829b6a3-ecf8-4882-9232-75ea2d2fbf52"
   },
   "outputs": [
    {
     "data": {
      "text/plain": [
       "LogisticRegression(random_state=0)"
      ]
     },
     "execution_count": 28,
     "metadata": {},
     "output_type": "execute_result"
    }
   ],
   "source": [
    "from sklearn.linear_model import LogisticRegression\n",
    "model = LogisticRegression(random_state=0)\n",
    "model.fit(X_train,y_train)"
   ]
  },
  {
   "cell_type": "markdown",
   "metadata": {
    "id": "KnKd4JgjwDK7"
   },
   "source": [
    "## Predicting whether new customer with user inputted age and salary will buy the product or not"
   ]
  },
  {
   "cell_type": "code",
   "execution_count": 30,
   "metadata": {
    "colab": {
     "base_uri": "https://localhost:8080/"
    },
    "id": "Q-qmevKMwIkN",
    "outputId": "7f43759d-b93a-47b1-dc19-887a692e6603"
   },
   "outputs": [
    {
     "name": "stdout",
     "output_type": "stream",
     "text": [
      "Enter new Customer's Age: 56\n",
      "Enter new Customer's Salary : 1000\n",
      "[1]\n",
      "Customer will Buy \n"
     ]
    }
   ],
   "source": [
    "age = int(input(\"Enter new Customer's Age: \"))\n",
    "sal = int(input(\"Enter new Customer's Salary : \"))\n",
    "newCust = [[age,sal]]\n",
    "result= model.predict(sc.transform(newCust))\n",
    "print(result)\n",
    "if result == 1:\n",
    "  print(\"Customer will Buy \")\n",
    "else :\n",
    "  print(\"Customer will not Buy \")  "
   ]
  },
  {
   "cell_type": "markdown",
   "metadata": {
    "id": "eMc6Pir9yWqP"
   },
   "source": [
    "## Prediction for all Test Data"
   ]
  },
  {
   "cell_type": "code",
   "execution_count": 32,
   "metadata": {
    "colab": {
     "base_uri": "https://localhost:8080/"
    },
    "id": "yc-0TIERw3qc",
    "outputId": "d958621b-ae33-49a3-d554-e18a13841d20"
   },
   "outputs": [
    {
     "name": "stdout",
     "output_type": "stream",
     "text": [
      "[[1 1]\n",
      " [0 0]\n",
      " [1 1]\n",
      " [0 0]\n",
      " [0 1]\n",
      " [0 1]\n",
      " [0 0]\n",
      " [0 0]\n",
      " [0 0]\n",
      " [1 0]\n",
      " [1 1]\n",
      " [0 1]\n",
      " [0 0]\n",
      " [0 0]\n",
      " [0 0]\n",
      " [0 0]\n",
      " [0 1]\n",
      " [0 0]\n",
      " [1 0]\n",
      " [1 1]\n",
      " [1 1]\n",
      " [1 1]\n",
      " [1 1]\n",
      " [0 0]\n",
      " [1 1]\n",
      " [0 0]\n",
      " [1 1]\n",
      " [1 1]\n",
      " [1 1]\n",
      " [0 0]\n",
      " [0 0]\n",
      " [0 1]\n",
      " [0 0]\n",
      " [1 1]\n",
      " [1 1]\n",
      " [1 1]\n",
      " [0 0]\n",
      " [1 1]\n",
      " [0 0]\n",
      " [0 0]\n",
      " [1 1]\n",
      " [0 0]\n",
      " [0 0]\n",
      " [0 0]\n",
      " [0 0]\n",
      " [0 0]\n",
      " [0 0]\n",
      " [1 1]\n",
      " [0 0]\n",
      " [0 0]\n",
      " [1 1]\n",
      " [0 1]\n",
      " [0 0]\n",
      " [0 0]\n",
      " [1 1]\n",
      " [1 1]\n",
      " [0 1]\n",
      " [0 0]\n",
      " [0 1]\n",
      " [1 1]\n",
      " [1 1]]\n"
     ]
    }
   ],
   "source": [
    "y_pred = model.predict(X_test)\n",
    "print(np.concatenate((y_pred.reshape(len(y_pred),1),y_test.reshape(len(y_test),1)),1))"
   ]
  },
  {
   "cell_type": "markdown",
   "metadata": {
    "id": "bCjSWE93zFR_"
   },
   "source": [
    "## Testing accuracy of the model"
   ]
  },
  {
   "cell_type": "code",
   "execution_count": 35,
   "metadata": {
    "colab": {
     "base_uri": "https://localhost:8080/"
    },
    "id": "nZ9NnguozI54",
    "outputId": "e369d117-8587-4ea1-b1f8-8fc5bf4251d2"
   },
   "outputs": [
    {
     "name": "stdout",
     "output_type": "stream",
     "text": [
      "Confusion Matrix: \n",
      "[[29  2]\n",
      " [ 8 22]]\n",
      "Accuracy of the model: 83.60655737704919%\n"
     ]
    }
   ],
   "source": [
    "from sklearn.metrics import confusion_matrix,accuracy_score\n",
    "cm=confusion_matrix(y_test,y_pred)\n",
    "print(\"Confusion Matrix: \")\n",
    "print(cm)\n",
    "print(\"Accuracy of the model: {0}%\".format(accuracy_score(y_test,y_pred)*100))"
   ]
  },
  {
   "cell_type": "code",
   "execution_count": null,
   "metadata": {
    "id": "0DT1DF8SzM8w"
   },
   "outputs": [],
   "source": []
  }
 ],
 "metadata": {
  "colab": {
   "collapsed_sections": [],
   "name": "AD- Sale Prediction .ipynb",
   "provenance": []
  },
  "kernelspec": {
   "display_name": "Python 3 (ipykernel)",
   "language": "python",
   "name": "python3"
  },
  "language_info": {
   "codemirror_mode": {
    "name": "ipython",
    "version": 3
   },
   "file_extension": ".py",
   "mimetype": "text/x-python",
   "name": "python",
   "nbconvert_exporter": "python",
   "pygments_lexer": "ipython3",
   "version": "3.9.11"
  }
 },
 "nbformat": 4,
 "nbformat_minor": 1
}
